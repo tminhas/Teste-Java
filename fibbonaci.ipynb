{
 "cells": [
  {
   "cell_type": "code",
   "execution_count": 3,
   "metadata": {},
   "outputs": [
    {
     "name": "stdout",
     "output_type": "stream",
     "text": [
      "1\n",
      "1\n",
      "2\n",
      "5\n",
      "8\n"
     ]
    }
   ],
   "source": [
    "def fibbonaci_linear(pos):\n",
    "    \"\"\" Cada novo elemento é a soma dos dois elementos anteriores\"\"\"\n",
    "    if pos < 0:\n",
    "        return None\n",
    "    fib = [0, 1]\n",
    "    while pos >= len(fib):\n",
    "        fib.append(fib[-1] + fib[-2])\n",
    "    return fib[pos]\n",
    "\n",
    "print(fibbonaci_linear(1))\n",
    "print(fibbonaci_linear(2))\n",
    "print(fibbonaci_linear(3))\n",
    "print(fibbonaci_linear(5))\n",
    "print(fibbonaci_linear(6))"
   ]
  },
  {
   "cell_type": "code",
   "execution_count": 4,
   "metadata": {},
   "outputs": [
    {
     "name": "stdout",
     "output_type": "stream",
     "text": [
      "1\n",
      "[0, 1, 1]\n",
      "1\n",
      "[0, 1, 1, 2]\n",
      "2\n",
      "[0, 1, 1, 2, 3]\n",
      "[0, 1, 1, 2, 3, 5]\n",
      "5\n",
      "[0, 1, 1, 2, 3, 5, 8]\n",
      "8\n"
     ]
    }
   ],
   "source": [
    "def fibbonaci_recursivo(pos, fib=None):\n",
    "    if fib==None:\n",
    "        fib=[1, 2]\n",
    "    if pos < 0:\n",
    "        return None\n",
    "    if len(fib) <= pos:\n",
    "        fib.append(fib[-1] + fib[-2])\n",
    "        return fibbonaci_recursivo(pos, fib)\n",
    "    return fib[pos]\n",
    "\n",
    "print(fibbonaci_recursivo(1))\n",
    "print(fibbonaci_recursivo(2))\n",
    "print(fibbonaci_recursivo(3))\n",
    "print(fibbonaci_recursivo(5))\n",
    "print(fibbonaci_recursivo(6))"
   ]
  }
 ],
 "metadata": {
  "kernelspec": {
   "display_name": "Python 3",
   "language": "python",
   "name": "python3"
  },
  "language_info": {
   "codemirror_mode": {
    "name": "ipython",
    "version": 3
   },
   "file_extension": ".py",
   "mimetype": "text/x-python",
   "name": "python",
   "nbconvert_exporter": "python",
   "pygments_lexer": "ipython3",
   "version": "3.12.2"
  }
 },
 "nbformat": 4,
 "nbformat_minor": 2
}
