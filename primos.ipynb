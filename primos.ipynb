{
 "cells": [
  {
   "cell_type": "code",
   "execution_count": 1,
   "metadata": {},
   "outputs": [
    {
     "name": "stdout",
     "output_type": "stream",
     "text": [
      "[2]\n",
      "[2, 3]\n",
      "[2, 3, 5, 7]\n"
     ]
    }
   ],
   "source": [
    "def primos_ate_numero_linear(num):\n",
    "    \"\"\"\n",
    "    Para saber se um número é primo, testa-se se ele é divisível por qualquer número entre 2 e a raiz quadrada do número\n",
    "    Repetindo o processo para todos os números até a entrada fornecida. \n",
    "    \"\"\"\n",
    "    primos = []\n",
    "    if num < 2:\n",
    "        return primos\n",
    "    for n in range(2, num + 1):\n",
    "        is_primo = True\n",
    "        for i in range(2, int(n**0.5) + 1):\n",
    "            if n % i == 0:\n",
    "                is_primo = False\n",
    "                break\n",
    "        if is_primo:\n",
    "            primos.append(n)\n",
    "    return primos\n",
    "\n",
    "print(primos_ate_numero_linear(2))  \n",
    "print(primos_ate_numero_linear(3))  \n",
    "print(primos_ate_numero_linear(10))  "
   ]
  },
  {
   "cell_type": "code",
   "execution_count": 2,
   "metadata": {},
   "outputs": [
    {
     "name": "stdout",
     "output_type": "stream",
     "text": [
      "[2]\n",
      "[2, 2, 3]\n",
      "[2, 2, 3, 2, 3, 5, 7]\n"
     ]
    }
   ],
   "source": [
    "def primos_ate_numero_recursivo(num, inicio=2, primos=None):\n",
    "    \"\"\" Mesmo procedimento da função anterior porém substituindo o loop externo por recursão\"\"\"\n",
    "    if primos==None:\n",
    "        primos=[]\n",
    "    if num < 2 or inicio > num:\n",
    "        return primos\n",
    "    else:\n",
    "        is_primo = True\n",
    "        for i in range(2, int(inicio**0.5) + 1):\n",
    "            if inicio % i == 0:\n",
    "                is_primo = False\n",
    "                break\n",
    "        if is_primo:\n",
    "            primos.append(inicio)\n",
    "        return primos_ate_numero_recursivo(num, inicio+1, primos)\n",
    "\n",
    "print(primos_ate_numero_recursivo(2)) \n",
    "print(primos_ate_numero_recursivo(3)) \n",
    "print(primos_ate_numero_recursivo(10)) "
   ]
  }
 ],
 "metadata": {
  "kernelspec": {
   "display_name": "Python 3",
   "language": "python",
   "name": "python3"
  },
  "language_info": {
   "codemirror_mode": {
    "name": "ipython",
    "version": 3
   },
   "file_extension": ".py",
   "mimetype": "text/x-python",
   "name": "python",
   "nbconvert_exporter": "python",
   "pygments_lexer": "ipython3",
   "version": "3.12.2"
  }
 },
 "nbformat": 4,
 "nbformat_minor": 2
}
